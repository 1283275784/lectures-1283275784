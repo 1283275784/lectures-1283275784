{
 "cells": [
  {
   "cell_type": "markdown",
   "metadata": {
    "slideshow": {
     "slide_type": "slide"
    }
   },
   "source": [
    "## MY470 Computer Programming\n",
    "# Working with Strings and Lists in Python\n",
    "### Week 2 Lab, MT 2017"
   ]
  },
  {
   "cell_type": "markdown",
   "metadata": {
    "slideshow": {
     "slide_type": "slide"
    }
   },
   "source": [
    "## Variables\n",
    "\n",
    "Variables associate objects (values) with a name. Objects have types (belong to classes).\n",
    "\n",
    "Here are some rules and conventions for naming variables:\n",
    "\n",
    "* Variables must begin with a letter (a - z, A - Z) or underscore (_)\n",
    "* Variables can contain letters, underscore, and numbers"
   ]
  },
  {
   "cell_type": "markdown",
   "metadata": {
    "slideshow": {
     "slide_type": "fragment"
    }
   },
   "source": [
    "* Watch out for reserved words!"
   ]
  },
  {
   "cell_type": "code",
   "execution_count": 74,
   "metadata": {
    "slideshow": {
     "slide_type": "-"
    }
   },
   "outputs": [
    {
     "ename": "SyntaxError",
     "evalue": "invalid syntax (<ipython-input-74-e794f95ceb9a>, line 5)",
     "output_type": "error",
     "traceback": [
      "\u001b[0;36m  File \u001b[0;32m\"<ipython-input-74-e794f95ceb9a>\"\u001b[0;36m, line \u001b[0;32m5\u001b[0m\n\u001b[0;31m    try = 5\u001b[0m\n\u001b[0m        ^\u001b[0m\n\u001b[0;31mSyntaxError\u001b[0m\u001b[0;31m:\u001b[0m invalid syntax\n"
     ]
    }
   ],
   "source": [
    "# List of reserved words in Python: and, as, assert, break, class, continue, def, del, elif, else, except, exec, \n",
    "# finally, for, from, global, if, import, in, is, lambda, not, or, pass, print, raise, return, try, while, with, yield\n",
    "\n",
    "trial = 2\n",
    "try = 5"
   ]
  },
  {
   "cell_type": "markdown",
   "metadata": {
    "slideshow": {
     "slide_type": "fragment"
    }
   },
   "source": [
    "* Use **ALLCAPS** for constants, like a password or secret key\n",
    "* Use a consistent style, such as mixedCaseName or **underscore_name**"
   ]
  },
  {
   "cell_type": "markdown",
   "metadata": {
    "slideshow": {
     "slide_type": "slide"
    }
   },
   "source": [
    "## Strings\n",
    "\n",
    "* Ordered sequences of characters\n",
    "* Immutable"
   ]
  },
  {
   "cell_type": "code",
   "execution_count": 75,
   "metadata": {
    "slideshow": {
     "slide_type": "-"
    }
   },
   "outputs": [
    {
     "name": "stdout",
     "output_type": "stream",
     "text": [
      "my string\n",
      "s\n",
      "string\n"
     ]
    }
   ],
   "source": [
    "x = 'my string'\n",
    "x.capitalize()\n",
    "print(x)\n",
    "print(x[3])\n",
    "print(x[3:])"
   ]
  },
  {
   "cell_type": "markdown",
   "metadata": {
    "slideshow": {
     "slide_type": "slide"
    }
   },
   "source": [
    "## Common String Methods: Formatting\n",
    "\n",
    "* `S.upper()` – change to upper case\n",
    "* `S.lower()` – change to lower case\n",
    "* `S.capitalize()` – capitalize the first word\n",
    "* `S.find(S1)` – return the index of the first instance of input"
   ]
  },
  {
   "cell_type": "code",
   "execution_count": 76,
   "metadata": {
    "slideshow": {
     "slide_type": "-"
    }
   },
   "outputs": [
    {
     "name": "stdout",
     "output_type": "stream",
     "text": [
      "MAKE ME SCREAM!\n",
      "Make this into a proper sentence.\n",
      "1\n"
     ]
    }
   ],
   "source": [
    "# Methods are attached to objects. Use the period [.] to link the method to the object.\n",
    "\n",
    "print('Make me scream!'.upper())\n",
    "x = 'make this into a proper sentence'\n",
    "print(x.capitalize()+'.')\n",
    "\n",
    "print('Find the first \"i\" in this sentence.'.find('i'))"
   ]
  },
  {
   "cell_type": "markdown",
   "metadata": {
    "slideshow": {
     "slide_type": "slide"
    }
   },
   "source": [
    "## Common String Methods: `strip` and `replace`\n",
    "\n",
    "* `S.replace(S1, S2)` – find all instances of input1 and change to input2\n",
    "* `S.strip(S1)` – remove whitespace characters from a string (useful when reading in from a file)"
   ]
  },
  {
   "cell_type": "code",
   "execution_count": 77,
   "metadata": {
    "slideshow": {
     "slide_type": "-"
    }
   },
   "outputs": [
    {
     "name": "stdout",
     "output_type": "stream",
     "text": [
      " ThiS iS a long Sentence that we will uSe aS an example.\n",
      "\n",
      "This is a long sentence that we will use as an example.\n",
      "This is a long sentence that we will use as an example.\n",
      "\n",
      "Thisisalongsentencethatwewilluseasanexample.\n",
      "\n"
     ]
    }
   ],
   "source": [
    "x = ' This is a long sentence that we will use as an example.\\n'\n",
    "print(x.replace('s', 'S'))\n",
    "print(x.strip())\n",
    "print(x.strip(' '))\n",
    "print(x.replace(' ', ''))\n",
    "\n",
    "# Exercise: Remove the trailing white space in the string below, replace all double spaces with single space, \n",
    "# remove any punctuation, and convert to lower case. Print the resulting string.\n",
    "string1 = 'This  is a collection of  words - I would  like to break  it into  tokens\\n'\n"
   ]
  },
  {
   "cell_type": "markdown",
   "metadata": {
    "slideshow": {
     "slide_type": "slide"
    }
   },
   "source": [
    "## Common String Methods: `split` and `join`\n",
    "\n",
    "* `S.split(S1)` – split the string into a list\n",
    "* `S.join(L)` – combine the input sequence into a single string"
   ]
  },
  {
   "cell_type": "code",
   "execution_count": 78,
   "metadata": {
    "slideshow": {
     "slide_type": "-"
    }
   },
   "outputs": [
    {
     "name": "stdout",
     "output_type": "stream",
     "text": [
      "['this', 'is', 'a', 'collection', 'of', 'words', 'i', 'would', 'like', 'to', 'break', 'it', 'into', 'tokens']\n",
      "['this is a c', 'llecti', 'n ', 'f w', 'rds i w', 'uld like t', ' break it int', ' t', 'kens']\n",
      "this-is-a-collection-of-words-i-would-like-to-break-it-into-tokens\n"
     ]
    }
   ],
   "source": [
    "x = 'this is a collection of words i would like to break it into tokens'\n",
    "y = x.split()    # default is to split on ' '\n",
    "print(y)\n",
    "print(x.split('o')) \n",
    "\n",
    "x_new = '-'.join(y)\n",
    "print(x_new)\n"
   ]
  },
  {
   "cell_type": "markdown",
   "metadata": {
    "slideshow": {
     "slide_type": "slide"
    }
   },
   "source": [
    "# Lists\n",
    "\n",
    "* Ordered sequence of values\n",
    "* Mutable"
   ]
  },
  {
   "cell_type": "code",
   "execution_count": 79,
   "metadata": {
    "slideshow": {
     "slide_type": "-"
    }
   },
   "outputs": [
    {
     "name": "stdout",
     "output_type": "stream",
     "text": [
      "[1, 2, 3, 4, 5]\n"
     ]
    }
   ],
   "source": [
    "mylist = [1, 2, 3, 4]\n",
    "mylist.append(5)\n",
    "print(mylist)"
   ]
  },
  {
   "cell_type": "markdown",
   "metadata": {
    "slideshow": {
     "slide_type": "slide"
    }
   },
   "source": [
    "## Common List Methods\n",
    "\n",
    "* `L.append(e)`\n",
    "* `L.extend(L1)`\n",
    "* `L.insert(i, e)`\n",
    "* `L.remove(e)`\n",
    "* `L.pop(i)`\n",
    "* `L.sort()`\n",
    "* `L.reverse()`"
   ]
  },
  {
   "cell_type": "markdown",
   "metadata": {
    "slideshow": {
     "slide_type": "slide"
    }
   },
   "source": [
    "## Common List Methods:  `append` vs. `extend`"
   ]
  },
  {
   "cell_type": "code",
   "execution_count": 80,
   "metadata": {
    "slideshow": {
     "slide_type": "-"
    }
   },
   "outputs": [
    {
     "name": "stdout",
     "output_type": "stream",
     "text": [
      "[1, 2, 3, 4, 5]\n",
      "[1, 2, 3, 4, 5, 8, 7, 6]\n"
     ]
    }
   ],
   "source": [
    "mylist = [1, 2, 3, 4]\n",
    "mylist.append(5)\n",
    "print(mylist)\n",
    "\n",
    "mylist.extend([8, 7, 6])\n",
    "print(mylist)"
   ]
  },
  {
   "cell_type": "markdown",
   "metadata": {
    "slideshow": {
     "slide_type": "slide"
    }
   },
   "source": [
    "## Common List Methods: `remove` vs. `pop`"
   ]
  },
  {
   "cell_type": "code",
   "execution_count": 81,
   "metadata": {
    "slideshow": {
     "slide_type": "-"
    }
   },
   "outputs": [
    {
     "name": "stdout",
     "output_type": "stream",
     "text": [
      "[2, 3, 4]\n",
      "3 [2, 4]\n"
     ]
    }
   ],
   "source": [
    "mylist = [1, 2, 3, 4]\n",
    "mylist.remove(1)\n",
    "print(mylist)\n",
    "\n",
    "popped = mylist.pop(1)\n",
    "print(popped, mylist)"
   ]
  },
  {
   "cell_type": "markdown",
   "metadata": {
    "slideshow": {
     "slide_type": "slide"
    }
   },
   "source": [
    "## Common List Methods: `L.sort()` vs. `sorted(L)`"
   ]
  },
  {
   "cell_type": "code",
   "execution_count": 82,
   "metadata": {
    "slideshow": {
     "slide_type": "-"
    }
   },
   "outputs": [
    {
     "name": "stdout",
     "output_type": "stream",
     "text": [
      "[1, 2, 3, 4, 5]\n",
      "[10, 9, 6, 8, 7]\n",
      "[10, 9, 6, 8, 7] [6, 7, 8, 9, 10]\n"
     ]
    }
   ],
   "source": [
    "mylist = [4, 5, 2, 1, 3]\n",
    "mylist.sort()  # Sorts in-place. It is more efficient but overwrites the input.\n",
    "print(mylist)\n",
    "\n",
    "mylist = [10, 9, 6, 8, 7]\n",
    "sorted(mylist) \n",
    "print(mylist)\n",
    "\n",
    "newlist = sorted(mylist)  # Creates a new list that is sorted, not changing the original.\n",
    "print(mylist, newlist)"
   ]
  },
  {
   "cell_type": "markdown",
   "metadata": {
    "slideshow": {
     "slide_type": "slide"
    }
   },
   "source": [
    "## Resources\n",
    "\n",
    "In addition to the Python resources online, you can query any object to get help on what methods are available"
   ]
  },
  {
   "cell_type": "code",
   "execution_count": 83,
   "metadata": {
    "slideshow": {
     "slide_type": "-"
    }
   },
   "outputs": [
    {
     "data": {
      "text/plain": [
       "['__and__',\n",
       " '__class__',\n",
       " '__contains__',\n",
       " '__delattr__',\n",
       " '__dir__',\n",
       " '__doc__',\n",
       " '__eq__',\n",
       " '__format__',\n",
       " '__ge__',\n",
       " '__getattribute__',\n",
       " '__gt__',\n",
       " '__hash__',\n",
       " '__iand__',\n",
       " '__init__',\n",
       " '__init_subclass__',\n",
       " '__ior__',\n",
       " '__isub__',\n",
       " '__iter__',\n",
       " '__ixor__',\n",
       " '__le__',\n",
       " '__len__',\n",
       " '__lt__',\n",
       " '__ne__',\n",
       " '__new__',\n",
       " '__or__',\n",
       " '__rand__',\n",
       " '__reduce__',\n",
       " '__reduce_ex__',\n",
       " '__repr__',\n",
       " '__ror__',\n",
       " '__rsub__',\n",
       " '__rxor__',\n",
       " '__setattr__',\n",
       " '__sizeof__',\n",
       " '__str__',\n",
       " '__sub__',\n",
       " '__subclasshook__',\n",
       " '__xor__',\n",
       " 'add',\n",
       " 'clear',\n",
       " 'copy',\n",
       " 'difference',\n",
       " 'difference_update',\n",
       " 'discard',\n",
       " 'intersection',\n",
       " 'intersection_update',\n",
       " 'isdisjoint',\n",
       " 'issubset',\n",
       " 'issuperset',\n",
       " 'pop',\n",
       " 'remove',\n",
       " 'symmetric_difference',\n",
       " 'symmetric_difference_update',\n",
       " 'union',\n",
       " 'update']"
      ]
     },
     "execution_count": 83,
     "metadata": {},
     "output_type": "execute_result"
    }
   ],
   "source": [
    "myset = {1,2}\n",
    "dir(myset)"
   ]
  },
  {
   "cell_type": "code",
   "execution_count": 84,
   "metadata": {
    "slideshow": {
     "slide_type": "-"
    }
   },
   "outputs": [
    {
     "name": "stdout",
     "output_type": "stream",
     "text": [
      "Help on method_descriptor:\n",
      "\n",
      "union(...)\n",
      "    Return the union of sets as a new set.\n",
      "    \n",
      "    (i.e. all elements that are in either set.)\n",
      "\n"
     ]
    }
   ],
   "source": [
    "help(set.union)"
   ]
  },
  {
   "cell_type": "markdown",
   "metadata": {
    "slideshow": {
     "slide_type": "slide"
    }
   },
   "source": [
    "## Week 2 Assignment\n",
    "\n",
    "* Practice string and list manipulations\n",
    "* E-mail with link to assignment will be sent by end of today"
   ]
  }
 ],
 "metadata": {
  "celltoolbar": "Slideshow",
  "kernelspec": {
   "display_name": "Python 3",
   "language": "python",
   "name": "python3"
  },
  "language_info": {
   "codemirror_mode": {
    "name": "ipython",
    "version": 3
   },
   "file_extension": ".py",
   "mimetype": "text/x-python",
   "name": "python",
   "nbconvert_exporter": "python",
   "pygments_lexer": "ipython3",
   "version": "3.6.0"
  }
 },
 "nbformat": 4,
 "nbformat_minor": 2
}
