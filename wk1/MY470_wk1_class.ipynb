{
 "cells": [
  {
   "cell_type": "markdown",
   "metadata": {
    "slideshow": {
     "slide_type": "slide"
    }
   },
   "source": [
    "### <center>MY470 Computer Programming</center>\n",
    "# <center>Anaconda, Jupyter, and Github</center>\n",
    "### <center>Week 1 Lab, MT 2017</center>"
   ]
  },
  {
   "cell_type": "markdown",
   "metadata": {
    "slideshow": {
     "slide_type": "slide"
    }
   },
   "source": [
    "## IDEs\n",
    "\n",
    "* Integrated development environment\n",
    "* A software application that facilitates computer programming and software development\n",
    "  * Text editor with syntax highlighting, auto completion and smart identation\n",
    "  * Shell with syntax highlighting\n",
    "  * Popular libraries\n",
    "  * (Debugger)"
   ]
  },
  {
   "cell_type": "markdown",
   "metadata": {
    "slideshow": {
     "slide_type": "slide"
    }
   },
   "source": [
    "## Anaconda\n",
    "\n",
    "* Freemium open-source cross-platform distribution of the Pyhton and R programming languages\n",
    "  * *conda* – package management system\n",
    "  * *pandas*, *scikit-learn*, *nltk*, etc. – packages for data science \n",
    "  * *Anaconda Navigator* – graphical user interface\n",
    "  * *jupyter* – web app for creating and sharing code"
   ]
  },
  {
   "cell_type": "markdown",
   "metadata": {
    "slideshow": {
     "slide_type": "slide"
    }
   },
   "source": [
    "## Installing Anaconda\n",
    "\n",
    "* https://www.continuum.io/downloads\n",
    "* Select your OS\n",
    "* **Download Python 3.6 version**\n",
    "* Follow instructions"
   ]
  },
  {
   "cell_type": "markdown",
   "metadata": {
    "slideshow": {
     "slide_type": "slide"
    }
   },
   "source": [
    "## Jupyter\n",
    "\n",
    "* Open-source web application for creating and sharing documents with:\n",
    "  * Live code\n",
    "  * Equations\n",
    "  * Visualizations\n",
    "  * Explanatory text\n",
    "* Supports more than 40 programming languages, including Python and R\n",
    "* Notebook files have *.ipynb* extension and can be easily shared, e.g. on GitHub"
   ]
  },
  {
   "cell_type": "markdown",
   "metadata": {
    "slideshow": {
     "slide_type": "slide"
    }
   },
   "source": [
    "## Launching Jupyter\n",
    "\n",
    "* Launch *Anaconda Navigator* and click on *Jupyter Notebook* icon\n",
    "\n",
    "or \n",
    "\n",
    "* Open *Terminal*/*cmd* and type: `jupyter notebook`"
   ]
  },
  {
   "cell_type": "markdown",
   "metadata": {
    "slideshow": {
     "slide_type": "slide"
    }
   },
   "source": [
    "## Using Jupyter\n",
    "\n",
    "* Markdown\n",
    "    * MY 473/573 Managing and Visualizing Data\n",
    "    * Cheatsheets, for example: https://github.com/adam-p/markdown-here/wiki/Markdown-Cheatsheet\n",
    "* Code"
   ]
  },
  {
   "cell_type": "markdown",
   "metadata": {
    "slideshow": {
     "slide_type": "fragment"
    }
   },
   "source": [
    "* For slides\n",
    "  * Install RISE\n",
    "```\n",
    "> conda install -c damianavila82 rise\n",
    "```    \n",
    "  * Restart *Jupyter*\n",
    "  * *View* &rarr; *Cell Toolbar* &rarr; *Slideshow* to determine slideshow flow\n",
    "  * Press *Enter/Exit Live Rveal Slideshow*\n",
    "    "
   ]
  },
  {
   "cell_type": "markdown",
   "metadata": {
    "slideshow": {
     "slide_type": "slide"
    }
   },
   "source": [
    "## Shutting Down Jupyter\n",
    "\n",
    "* Do not forget to Command+S / CTRL+S !\n",
    "* Jupyter is a server and closing the browser window will not shut it down\n",
    "* To shut down:\n",
    "    * *File* &rarr; *Close and Halt*\n",
    "    * *Notebook Dashboard* &rarr; Slect notebook &rarr; *Shutdown*\n",
    "    * *Terminal* &rarr; CTRL+C &rarr; `y`"
   ]
  },
  {
   "cell_type": "markdown",
   "metadata": {
    "slideshow": {
     "slide_type": "slide"
    }
   },
   "source": [
    "## GitHub\n",
    "\n",
    "* Code hosting platform for version control and collaboration\n",
    "* Based on Git\n",
    "  * Version control system for tracking changes in computer files and coordinating work on those files among multiple people\n",
    "  * Created in 2005 by Linus Torvalds\n",
    "* Largest host of source code in the world"
   ]
  },
  {
   "cell_type": "markdown",
   "metadata": {},
   "source": [
    "## GitHub Lingo\n",
    "\n",
    "* Repository for each project (assignment)\n",
    "* Clone - a copy of the repository that lives on your computer\n",
    "* Fork\n",
    "* Push to send committed changes (submit assignments)\n",
    "* Pull requests to accept/reject changes (give feedback on assignments)\n",
    "* Issues are suggested improvements, tasks, or questions related to the repository (student forum)"
   ]
  },
  {
   "cell_type": "markdown",
   "metadata": {},
   "source": [
    "## Getting Started with GitHub\n",
    "\n",
    "* Create personal account on GitHub\n",
    "* Go to https://education.github.com/ and get the Student Developer Pack for some cool freebies\n",
    "* Syllabus and lectures can be found at https://github.com/lse-methodology/my470\n",
    "* E-mails with links to assignments will be sent in due course"
   ]
  },
  {
   "cell_type": "markdown",
   "metadata": {},
   "source": [
    "## Alternative Workflow\n",
    "\n",
    "* Use an IDE\n",
    "\n",
    "or \n",
    "\n",
    "* Use text editor (e.g. Atom) to create .py files\n",
    "* Run files in *Terminal*/*cmd*\n",
    "\n",
    "```\n",
    "> cd Path/to/file\n",
    "> python filename.py\n",
    "```"
   ]
  },
  {
   "cell_type": "markdown",
   "metadata": {},
   "source": [
    "## Week 1 Assignment\n",
    "\n",
    "* Create notebook and submit it on GitHub\n",
    "* E-mail with link to assignment will be sent by end of today"
   ]
  }
 ],
 "metadata": {
  "celltoolbar": "Slideshow",
  "kernelspec": {
   "display_name": "Python 3",
   "language": "python",
   "name": "python3"
  },
  "language_info": {
   "codemirror_mode": {
    "name": "ipython",
    "version": 3
   },
   "file_extension": ".py",
   "mimetype": "text/x-python",
   "name": "python",
   "nbconvert_exporter": "python",
   "pygments_lexer": "ipython3",
   "version": "3.6.0"
  }
 },
 "nbformat": 4,
 "nbformat_minor": 2
}
