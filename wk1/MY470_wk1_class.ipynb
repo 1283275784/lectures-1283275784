{
 "cells": [
  {
   "cell_type": "markdown",
   "metadata": {
    "slideshow": {
     "slide_type": "slide"
    }
   },
   "source": [
    "### MY470 Computer Programming\n",
    "# Anaconda, Jupyter, and GitHub\n",
    "### Week 1 Lab"
   ]
  },
  {
   "cell_type": "markdown",
   "metadata": {
    "slideshow": {
     "slide_type": "slide"
    }
   },
   "source": [
    "## Map of Software Tools and Options\n",
    "\n",
    "![Software map](figs/software_map.png \"Software map\")"
   ]
  },
  {
   "cell_type": "markdown",
   "metadata": {
    "slideshow": {
     "slide_type": "slide"
    }
   },
   "source": [
    "## IDEs\n",
    "\n",
    "* Integrated development environment\n",
    "* A software application that facilitates computer programming and software development\n",
    "  * Text editor with syntax highlighting, auto completion and smart indentation\n",
    "  * Shell with syntax highlighting\n",
    "  * Popular libraries\n",
    "  * (Debugger)\n",
    "* For example:\n",
    "  * Jupyter Notebooks/Lab\n",
    "  * Spyder\n",
    "  * PyCharm\n",
    "  * **VS Code**"
   ]
  },
  {
   "cell_type": "markdown",
   "metadata": {
    "slideshow": {
     "slide_type": "slide"
    }
   },
   "source": [
    "## Anaconda\n",
    "\n",
    "![Anaconda](figs/anaconda.png \"Anaconda\")\n",
    "\n",
    "* Freemium open-source cross-platform distribution of the Pyhton and R programming languages\n",
    "  * `conda` – package management system\n",
    "  * `pandas`, `numpy`, `statsmodels`, `networkx`, `scikit-learn`, `matplotlib` – packages for data science \n",
    "  * Anaconda Navigator – graphical user interface\n",
    "  * Jupyter Notebook – web app for simple creating and sharing code\n",
    "* We primarily use it as a way to standardise Python installation and package management"
   ]
  },
  {
   "cell_type": "markdown",
   "metadata": {
    "slideshow": {
     "slide_type": "slide"
    }
   },
   "source": [
    "## Installing Anaconda\n",
    "\n",
    "* Go to https://www.anaconda.com/download/\n",
    "* Select your OS\n",
    "* Follow instructions"
   ]
  },
  {
   "cell_type": "markdown",
   "metadata": {},
   "source": [
    "## Visual Studio Code\n",
    "\n",
    "![VS Code](figs/vscode.png \"VS Code\")\n",
    "\n",
    "\n",
    "* Visual Studio Code (VS Code) is a free IDE developed by Microsoft.\n",
    "* It can read, edit, and run code in a variety of languages, including Python.\n",
    "* Users can install powerful extensions to customize the IDE.\n",
    "* It features built-in Git(Hub) version control, for managing and sharing code.\n",
    "* We use it to write and run Python code, primarily in Jupyter Notebook files."
   ]
  },
  {
   "cell_type": "markdown",
   "metadata": {},
   "source": [
    "## Installing VS Code\n",
    "\n",
    "* Go to [https://code.visualstudio.com/](https://code.visualstudio.com/)\n",
    "* Select your OS\n",
    "* Follow instructions"
   ]
  },
  {
   "cell_type": "markdown",
   "metadata": {},
   "source": [
    "## Installing important VS Code extensions\n",
    "\n",
    "*  If not already prompted, open the Extensions panel in VS Code by clicking on the icon in the left-hand toolbar.\n",
    "*  Search for and install:\n",
    "   1. \"Python\" extension pack by Microsoft.\n",
    "   2. \"Jupyter\" extension pack by Microsoft.\n",
    "   3.  \"GitHub Pull Requests and Issues\" extension by GitHub."
   ]
  },
  {
   "cell_type": "markdown",
   "metadata": {
    "slideshow": {
     "slide_type": "slide"
    }
   },
   "source": [
    "## Jupyter Notebooks\n",
    "\n",
    "![Jupyter](figs/jupyter.png \"Jupyter\")\n",
    "\n",
    "* A popular format for creating and sharing code in documents with:\n",
    "  * Live code\n",
    "  * Equations\n",
    "  * Visualizations\n",
    "  * Explanatory text\n",
    "* Supports more than 40 programming languages, including Python and R\n",
    "* Notebook files have *.ipynb* extension and can be easily shared, e.g. on GitHub"
   ]
  },
  {
   "cell_type": "markdown",
   "metadata": {
    "slideshow": {
     "slide_type": "slide"
    }
   },
   "source": [
    "## Using Jupyter Notebooks in VS Code\n",
    "\n",
    "* New File &rarr; Jupyter Notebook\n",
    "* \"\\+ Markdown\" to insert a markdown cell\n",
    "  * Lightweight markup language for text, hyperlinks, images, etc.\n",
    "  * See cheatsheet: https://github.com/adam-p/markdown-here/wiki/Markdown-Cheatsheet\n",
    "  * CTRL+ENTER to run\n",
    "  * Double-click to edit\n",
    "* \"\\+ Code\" to insert a code cell\n",
    "  * CTRL+ENTER to run\n",
    "  * On first run, you will be prompted to select a kernel (the version of Python you want to use)\n",
    "  * Select \"Python Environments\" &rarr; \"base (Python 3.11.x) _anaconda3/bin/python_ __Conda Env__\"\n",
    "    * _The exact wording may be slightly different, but you want to select the option that has \"Conda Env\"/\"Anaconda\" in it._\n"
   ]
  },
  {
   "cell_type": "markdown",
   "metadata": {},
   "source": [
    "## Basics of coding in Jupyter Notebooks\n",
    "\n",
    "* Code cells are run by pressing CTRL+ENTER or by clicking the \"Run Cell\" button.\n",
    "* The output of the last line of code in a cell is displayed below the cell.\n",
    "* Any _variables_ you create are shared between cells in the same notebook, and can be explored by clicking the \"Variables\" button in the toolbar.\n",
    "* If code is taking too long to run, you can stop it by pressing the interrupt button.\n",
    "* If you want to restart the kernel (i.e. clear all variables from memory), you can do so by pressing the \"Restart\" button.\n",
    "  * This can help if you are encountering bugs that you can't figure out.\n",
    "* \"Run All\" runs all cells in the notebook from top to bottom. Variables from earlier cells can then be used in later cells. Your code should run from top to bottom without any errors.\n",
    "\n",
    "__Before submitting assignments, always \"Restart Kernel\" and \"Run All\" to make sure your code runs fully from a clean slate.__"
   ]
  },
  {
   "cell_type": "markdown",
   "metadata": {
    "slideshow": {
     "slide_type": "slide"
    }
   },
   "source": [
    "## Alternative Python Workflow\n",
    "\n",
    "* Use another IDE (e.g. PyCharm, or lightweight Jupyter Notebooks IDE)\n",
    "\n",
    "or \n",
    "\n",
    "* Use text editor (e.g. Sublime Text) to create .py files\n",
    "* Run files in Terminal/cmd\n",
    "\n",
    "```\n",
    "> cd Path/to/file\n",
    "> python filename.py\n",
    "```"
   ]
  },
  {
   "cell_type": "markdown",
   "metadata": {
    "slideshow": {
     "slide_type": "slide"
    }
   },
   "source": [
    "## Working with GitHub\n",
    "\n",
    "If you have not done this already:\n",
    "\n",
    "* Create personal account on https://github.com/\n",
    "* Go to https://education.github.com/ and get the Student Developer Pack for some cool freebies\n",
    "\n",
    "Four ways to interact with GitHub:\n",
    "\n",
    "1. Browser\n",
    "2. GitHub Desktop App\n",
    "3. VS Code\n",
    "4. Command line"
   ]
  },
  {
   "cell_type": "markdown",
   "metadata": {
    "slideshow": {
     "slide_type": "slide"
    }
   },
   "source": [
    "## Viewing Course Materials on GitHub (Browser)\n",
    "\n",
    "* Syllabus and lectures at http://github.com/lse-my470/lectures\n",
    "\n",
    "* Answers to assignments at https://github.com/lse-my470/answers-to-assignments\n",
    "\n",
    "    * To view this repository, you need to be added to the Students team on the MY470 organization on GitHub\n",
    "    * Registered students should provide their GitHub username by filling out the **survey on Moodle**\n",
    "    * Auditors should e-mail their GitHub username to m.tsvetkova@lse.ac.uk\n",
    "    * Do not forget to **accept the invitation** to join the team and organization!\n"
   ]
  },
  {
   "cell_type": "markdown",
   "metadata": {
    "slideshow": {
     "slide_type": "slide"
    }
   },
   "source": [
    "## Submitting Assignments on GitHub (Browser)\n",
    "\n",
    "1. Wait for e-mail with link to assignment (sent on Monday evening)\n",
    "* Accept invitation to assignment. This will automatically create a new repository with your username.\n",
    "* **Clone/download** the repository (GitHub web interface)\n",
    "* Make changes in downloaded file (Jupyter)\n",
    "* Upload and **commit** changed file **directly to the master branch**. Do this before the deadline (GitHub web interface)\n",
    "* We will automatically download all assignment repositories when the deadline has passed. We will then comment and mark your assignment directly in the main file you submitted \n",
    "* Wait for a new commit from us to view our feedback (GitHub web interface) "
   ]
  },
  {
   "cell_type": "markdown",
   "metadata": {
    "slideshow": {
     "slide_type": "slide"
    }
   },
   "source": [
    "## Cloning Course Materials from GitHub (Command Line)\n",
    "\n",
    "### \\*Install and set up `git`\n",
    "\n",
    "Follow instructions here: https://help.github.com/articles/set-up-git/\n",
    "\n",
    "### Cloning\n",
    "\n",
    "  `> cd Path/to/directory`\n",
    "\n",
    "  `> git clone https://github.com/lse-my470/lectures.git`\n",
    "\n",
    "### Updating\n",
    "\n",
    "  `> cd Path/to/lectures`\n",
    "\n",
    "  `> git pull`\n"
   ]
  },
  {
   "cell_type": "markdown",
   "metadata": {
    "slideshow": {
     "slide_type": "fragment"
    }
   },
   "source": [
    "---\n",
    "\n",
    "* Similarly, clone and update `https://github.com/lse-my470/answers-to-assignments` \n",
    "\n",
    "* Use Jupyter to annotate your local copies\n",
    "\n",
    "* `add` and `commit` before `pull`ing\n",
    "\n"
   ]
  },
  {
   "cell_type": "markdown",
   "metadata": {
    "slideshow": {
     "slide_type": "slide"
    }
   },
   "source": [
    "## Submitting Assignments on GitHub (Command Line)\n",
    "\n",
    "1. Accept invitation to assignment. This will automatically create a new repository with your username\n",
    "* **Clone** the repository (Terminal)\n",
    "\n",
    "  `> cd Path/to/directory`\n",
    "\n",
    "  `> git clone link.git`\n",
    "  \n",
    "  (You can obtain the link when you click the \"Clone or download\" button on the GitHub page for the repository)\n",
    "\n",
    "* Make changes in downloaded file (Jupyter)\n",
    "\n",
    "* **Commit** changed file and **push to the master branch**. Do this before the deadline (Terminal)\n",
    "\n",
    "  `> cd Path/to/directory`\n",
    "  \n",
    "  `> git add --all` \n",
    "  \n",
    "  `> git commit -m 'Submitting assignment'`\n",
    "  \n",
    "  `> git push`\n",
    "  \n",
    "* We will automatically download all assignment repositories when the deadline has passed. We will then comment and mark your assignment directly in the main file you submitted\n",
    "\n",
    "* **Pull** the new version we commit to view our feedback (Terminal)\n",
    "\n",
    "  `> cd Path/to/directory`\n",
    "  \n",
    "  `> git pull`\n"
   ]
  },
  {
   "cell_type": "markdown",
   "metadata": {
    "slideshow": {
     "slide_type": "slide"
    }
   },
   "source": [
    "## Submitting Assignments on GitHub (Command Line)\n",
    "\n",
    "![Git Commands](figs/git.jpg \"Git Commands\")\n"
   ]
  },
  {
   "cell_type": "markdown",
   "metadata": {
    "slideshow": {
     "slide_type": "slide"
    }
   },
   "source": [
    "## Submitting Assignments on GitHub: General Notes\n",
    "\n",
    "* Do not forget to push (especially on GitHub Desktop!)\n",
    "* Always check if the changes are online. If you cannot see them after refreshing, no one else can.\n",
    "* GitHub does all the version control for you. Do not duplicate and rename files!\n"
   ]
  },
  {
   "cell_type": "markdown",
   "metadata": {
    "slideshow": {
     "slide_type": "slide"
    }
   },
   "source": [
    "## Week 1 Assignment (FORMATIVE)\n",
    "\n",
    "* Write a simple program in a Jupyter notebook and submit it on GitHub\n",
    "* E-mail with link to assignment will be sent by end of Monday"
   ]
  }
 ],
 "metadata": {
  "celltoolbar": "Slideshow",
  "kernelspec": {
   "display_name": "Python 3 (ipykernel)",
   "language": "python",
   "name": "python3"
  },
  "language_info": {
   "codemirror_mode": {
    "name": "ipython",
    "version": 3
   },
   "file_extension": ".py",
   "mimetype": "text/x-python",
   "name": "python",
   "nbconvert_exporter": "python",
   "pygments_lexer": "ipython3",
   "version": "3.9.7"
  }
 },
 "nbformat": 4,
 "nbformat_minor": 2
}
