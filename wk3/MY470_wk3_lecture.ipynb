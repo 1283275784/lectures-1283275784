{
 "cells": [
  {
   "cell_type": "markdown",
   "metadata": {
    "slideshow": {
     "slide_type": "slide"
    }
   },
   "source": [
    "### MY470 Computer Programming\n",
    "# Control Flow in Python\n",
    "### Week 3 Lecture, MT 2017"
   ]
  },
  {
   "cell_type": "markdown",
   "metadata": {
    "slideshow": {
     "slide_type": "slide"
    }
   },
   "source": [
    "## Control Flow\n",
    "\n",
    "* Control flow is the order in which statements are executed or evaluated\n",
    "* In Python, there are three main categories of control flow:\n",
    "  * **Branches** (conditional statements) – execute only if some condition is met\n",
    "  * **Loops** (iteration) – execute repeatedly \n",
    "  * Function calls – execute a set of distant statements and return back to the control flow"
   ]
  },
  {
   "cell_type": "markdown",
   "metadata": {
    "slideshow": {
     "slide_type": "slide"
    }
   },
   "source": [
    "## Conditional Statements: `if`–`else`\n",
    "\n",
    "```\n",
    "if *Boolean expression*:\n",
    "    *block of code*\n",
    "else:\n",
    "    *block of code*\n",
    "```"
   ]
  },
  {
   "cell_type": "code",
   "execution_count": 40,
   "metadata": {
    "slideshow": {
     "slide_type": "-"
    }
   },
   "outputs": [
    {
     "name": "stdout",
     "output_type": "stream",
     "text": [
      "Odd\n",
      "Problem solved!\n"
     ]
    }
   ],
   "source": [
    "x = 5\n",
    "if x%2==0:\n",
    "    print(\"Even\")\n",
    "else:\n",
    "    print(\"Odd\")    \n",
    "print('Problem solved!')"
   ]
  },
  {
   "cell_type": "markdown",
   "metadata": {
    "slideshow": {
     "slide_type": "slide"
    }
   },
   "source": [
    "## Indentation in Python Code\n",
    "\n",
    "* Indentation is semantically meaningful in Python"
   ]
  },
  {
   "cell_type": "markdown",
   "metadata": {
    "slideshow": {
     "slide_type": "fragment"
    }
   },
   "source": [
    "* You can use [tabs or spaces](https://www.youtube.com/watch?v=SsoOG6ZeyUI)"
   ]
  },
  {
   "cell_type": "markdown",
   "metadata": {
    "slideshow": {
     "slide_type": "fragment"
    }
   },
   "source": [
    "* Obviously (!), tabs are preferable\n",
    "* However, it does not really matter in Jupyter as Jupyter converts tabs to spaces by default"
   ]
  },
  {
   "cell_type": "markdown",
   "metadata": {
    "slideshow": {
     "slide_type": "slide"
    }
   },
   "source": [
    "## Conditional Statements: `if`\n",
    "\n",
    "```\n",
    "if *Boolean expression*:\n",
    "    *block of code*\n",
    "```"
   ]
  },
  {
   "cell_type": "code",
   "execution_count": 41,
   "metadata": {
    "slideshow": {
     "slide_type": "-"
    }
   },
   "outputs": [
    {
     "name": "stdout",
     "output_type": "stream",
     "text": [
      "How old are you? 17\n",
      "You're still a baby!\n"
     ]
    }
   ],
   "source": [
    "x = input('How old are you? ')\n",
    "if int(x) < 18:\n",
    "    print(\"You're still a baby!\")"
   ]
  },
  {
   "cell_type": "markdown",
   "metadata": {
    "slideshow": {
     "slide_type": "slide"
    }
   },
   "source": [
    "## Conditional Statements: `if`–`elif`–`else`\n",
    "\n",
    "```\n",
    "if *Boolean expression*:\n",
    "    *block of code*\n",
    "elif *Boolean expression*:\n",
    "    *block of code*\n",
    "else:\n",
    "    *block of code*\n",
    "```"
   ]
  },
  {
   "cell_type": "code",
   "execution_count": 42,
   "metadata": {
    "slideshow": {
     "slide_type": "-"
    }
   },
   "outputs": [
    {
     "name": "stdout",
     "output_type": "stream",
     "text": [
      "Negative\n"
     ]
    }
   ],
   "source": [
    "x = -2\n",
    "if x > 0:\n",
    "    print('Positive')\n",
    "elif x < 0:\n",
    "    print('Negative')\n",
    "else:\n",
    "    print('Zero')"
   ]
  },
  {
   "cell_type": "markdown",
   "metadata": {
    "slideshow": {
     "slide_type": "notes"
    }
   },
   "source": [
    "Note that conditional statements are evaluated sequentially. Hence, it makes sense to start with the most likely one. This could make your code faster! "
   ]
  },
  {
   "cell_type": "markdown",
   "metadata": {
    "slideshow": {
     "slide_type": "slide"
    }
   },
   "source": [
    "## Nested Conditional Statements"
   ]
  },
  {
   "cell_type": "code",
   "execution_count": 43,
   "metadata": {
    "slideshow": {
     "slide_type": "-"
    }
   },
   "outputs": [
    {
     "name": "stdout",
     "output_type": "stream",
     "text": [
      "I don't now what this is.\n"
     ]
    }
   ],
   "source": [
    "x = None\n",
    "if type(x)==int or type(x)==float:\n",
    "    print('This is a number.')\n",
    "else:\n",
    "    if type(x)==str:\n",
    "        print('This is a string.')\n",
    "    else:\n",
    "        print(\"I don't now what this is.\")\n",
    "    "
   ]
  },
  {
   "cell_type": "markdown",
   "metadata": {
    "slideshow": {
     "slide_type": "slide"
    }
   },
   "source": [
    "## Iteration: `while`\n",
    "\n",
    "```\n",
    "while *Boolean expression*:\n",
    "    *block of code*\n",
    "```"
   ]
  },
  {
   "cell_type": "code",
   "execution_count": 44,
   "metadata": {
    "slideshow": {
     "slide_type": "-"
    }
   },
   "outputs": [
    {
     "name": "stdout",
     "output_type": "stream",
     "text": [
      "1\n",
      "2\n",
      "3\n",
      "4\n",
      "5\n"
     ]
    }
   ],
   "source": [
    "x = 0\n",
    "while x < 5: \n",
    "    x += 1\n",
    "    print(x)"
   ]
  },
  {
   "cell_type": "markdown",
   "metadata": {
    "slideshow": {
     "slide_type": "fragment"
    }
   },
   "source": [
    "**Careful with choosing the decrementing function!** This is a function that maps variables to an integer that is initially non-negative but that decreases with every pass through the loop; the loop ends when the integer is 0. In teh above example, the decrementing function is (5 – x)."
   ]
  },
  {
   "cell_type": "markdown",
   "metadata": {
    "slideshow": {
     "slide_type": "slide"
    }
   },
   "source": [
    "## Iteration: `for`\n",
    "\n",
    "```\n",
    "for *element* in *sequence*:\n",
    "    *block of code*\n",
    "```\n"
   ]
  },
  {
   "cell_type": "code",
   "execution_count": 45,
   "metadata": {
    "slideshow": {
     "slide_type": "-"
    }
   },
   "outputs": [
    {
     "name": "stdout",
     "output_type": "stream",
     "text": [
      "1\n",
      "2\n",
      "3\n",
      "4\n",
      "5\n"
     ]
    }
   ],
   "source": [
    "for i in [1, 2, 3, 4, 5]:\n",
    "    print(i)"
   ]
  },
  {
   "cell_type": "markdown",
   "metadata": {
    "slideshow": {
     "slide_type": "slide"
    }
   },
   "source": [
    "## `range()`\n",
    "\n",
    "* In-built function that produces an immutable ordered non-scalar object of type `range`\n",
    "* Initiate as `range([start], stop, [step])`. If ommitted, `start = 0` and `step = 1`. \n",
    "* Function produces progression of integers `[start, start + step, start + 2*step, ..., start + i*step]` \n",
    "  * If step > 0, `start + i*step < stop` \n",
    "  * If step < 0, `start + i*step > stop` \n",
    "* Essential in `for`-loops"
   ]
  },
  {
   "cell_type": "code",
   "execution_count": 46,
   "metadata": {
    "slideshow": {
     "slide_type": "-"
    }
   },
   "outputs": [
    {
     "name": "stdout",
     "output_type": "stream",
     "text": [
      "1 2 3 4 5 "
     ]
    }
   ],
   "source": [
    "for i in range(1,6):\n",
    "    print(i, end=' ')"
   ]
  },
  {
   "cell_type": "code",
   "execution_count": 47,
   "metadata": {
    "slideshow": {
     "slide_type": "-"
    }
   },
   "outputs": [
    {
     "name": "stdout",
     "output_type": "stream",
     "text": [
      "0 1 2 3 4 5 \n",
      "1 3 5 "
     ]
    }
   ],
   "source": [
    "for i in range(6):\n",
    "    print(i, end=' ')\n",
    "print()   \n",
    "\n",
    "for i in range(1,6,2):\n",
    "    print(i, end=' ')"
   ]
  },
  {
   "cell_type": "markdown",
   "metadata": {
    "slideshow": {
     "slide_type": "slide"
    }
   },
   "source": [
    "## Indexing Lists with `range(len(L))`"
   ]
  },
  {
   "cell_type": "code",
   "execution_count": 48,
   "metadata": {
    "slideshow": {
     "slide_type": "-"
    }
   },
   "outputs": [
    {
     "name": "stdout",
     "output_type": "stream",
     "text": [
      "index 0 : a\n",
      "index 1 : b\n",
      "index 2 : c\n",
      "index 3 : d\n"
     ]
    }
   ],
   "source": [
    "mylist = ['a', 'b', 'c', 'd']\n",
    "for i in range(len(mylist)):\n",
    "     print('index', i, ':', mylist[i])"
   ]
  },
  {
   "cell_type": "markdown",
   "metadata": {
    "slideshow": {
     "slide_type": "slide"
    }
   },
   "source": [
    "## `break` and `continue`\n",
    "\n",
    "* Use `break` to exit a loop \n",
    "* Use `continue` to go directly to next iteration"
   ]
  },
  {
   "cell_type": "code",
   "execution_count": 49,
   "metadata": {
    "slideshow": {
     "slide_type": "-"
    }
   },
   "outputs": [
    {
     "name": "stdout",
     "output_type": "stream",
     "text": [
      "0\n",
      "1\n"
     ]
    }
   ],
   "source": [
    "for i in range(5):\n",
    "    if i==2:\n",
    "        break  # Now try with continue\n",
    "    print(i)"
   ]
  },
  {
   "cell_type": "markdown",
   "metadata": {
    "slideshow": {
     "slide_type": "slide"
    }
   },
   "source": [
    "## List Comprehensions\n",
    "\n",
    "```\n",
    "L = [*object, expression, or function* for *element* in *sequence*]\n",
    "L = [*object, expression, or function* for *element* in *sequence* if *Boolean expression*]\n",
    "L = [*object, expression, or function* for *element* in *sequence* for *element2* in *sequence2*]\n",
    "```\n",
    "\n",
    "* Provide a concise way to create lists\n",
    "* Faster because implemented in C\n",
    "* Nested list comprehension can be somewhat confusing\n"
   ]
  },
  {
   "cell_type": "code",
   "execution_count": 57,
   "metadata": {
    "slideshow": {
     "slide_type": "-"
    }
   },
   "outputs": [
    {
     "name": "stdout",
     "output_type": "stream",
     "text": [
      "[1, 4, 9, 16, 25, 36, 49, 64, 81, 100]\n",
      "[4, 16, 36, 64, 100]\n",
      "['a1', 'a2', 'a3', 'b1', 'b2', 'b3', 'c1', 'c2', 'c3']\n"
     ]
    }
   ],
   "source": [
    "print([x**2 for x in range(1,11)])\n",
    "print([x**2 for x in range(1,11) if x%2==0])\n",
    "print([x+y for x in ['a', 'b', 'c'] for y in ['1','2', '3']])"
   ]
  },
  {
   "cell_type": "code",
   "execution_count": 58,
   "metadata": {
    "slideshow": {
     "slide_type": "-"
    }
   },
   "outputs": [
    {
     "name": "stdout",
     "output_type": "stream",
     "text": [
      "[1, 4, 9, 16, 25, 36, 49, 64, 81, 100]\n"
     ]
    }
   ],
   "source": [
    "ans = []\n",
    "for x in range(1,11):\n",
    "    ans.append(x**2)\n",
    "print(ans)"
   ]
  },
  {
   "cell_type": "markdown",
   "metadata": {
    "slideshow": {
     "slide_type": "slide"
    }
   },
   "source": [
    "## Dictionary Comprehensions"
   ]
  },
  {
   "cell_type": "code",
   "execution_count": 63,
   "metadata": {
    "slideshow": {
     "slide_type": "-"
    }
   },
   "outputs": [
    {
     "name": "stdout",
     "output_type": "stream",
     "text": [
      "{1: 1, 2: 4, 3: 9, 4: 16, 5: 25, 6: 36, 7: 49, 8: 64, 9: 81, 10: 100}\n",
      "{'a': 1, 'b': 2, 'c': 2}\n"
     ]
    }
   ],
   "source": [
    "print({x: x**2 for x in range(1,11)})\n",
    "print({x.lower(): y for x, y in [('A',1), ('b',2), ('C',2)]})\n"
   ]
  },
  {
   "cell_type": "markdown",
   "metadata": {
    "slideshow": {
     "slide_type": "slide"
    }
   },
   "source": [
    "## Control Flow in Python\n",
    "\n",
    "![Three categories of control flow](figs/control_flow.png \"Three categories of control flow\")"
   ]
  },
  {
   "cell_type": "markdown",
   "metadata": {
    "slideshow": {
     "slide_type": "fragment"
    }
   },
   "source": [
    "-------\n",
    "\n",
    "* **Lab**: `for` loops and list comprehensions, including nested list comprehensions\n",
    "* **Next week**: Functions in Python"
   ]
  }
 ],
 "metadata": {
  "celltoolbar": "Slideshow",
  "kernelspec": {
   "display_name": "Python 3",
   "language": "python",
   "name": "python3"
  },
  "language_info": {
   "codemirror_mode": {
    "name": "ipython",
    "version": 3
   },
   "file_extension": ".py",
   "mimetype": "text/x-python",
   "name": "python",
   "nbconvert_exporter": "python",
   "pygments_lexer": "ipython3",
   "version": "3.6.0"
  }
 },
 "nbformat": 4,
 "nbformat_minor": 2
}
