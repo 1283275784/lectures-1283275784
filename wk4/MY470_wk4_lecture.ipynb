{
 "cells": [
  {
   "cell_type": "markdown",
   "metadata": {
    "slideshow": {
     "slide_type": "slide"
    }
   },
   "source": [
    "### MY470 Computer Programming\n",
    "# Functions in Python\n",
    "### Week 4 Lecture, MT 2017"
   ]
  },
  {
   "cell_type": "markdown",
   "metadata": {
    "slideshow": {
     "slide_type": "slide"
    }
   },
   "source": [
    "## Control Flow\n",
    "\n",
    "![Three categories of control flow](figs/control_flow.png \"Three categories of control flow\")\n"
   ]
  },
  {
   "cell_type": "markdown",
   "metadata": {
    "slideshow": {
     "slide_type": "slide"
    }
   },
   "source": [
    "## Functions\n",
    "\n",
    "\n",
    "* Built-in\n",
    "  * `len()`, `max()`, `range()`, `open()`, etc.\n",
    "* User-defined\n",
    "  * You\n",
    "  * Collaborators\n",
    "  * The open-source community\n",
    "  "
   ]
  },
  {
   "cell_type": "markdown",
   "metadata": {
    "slideshow": {
     "slide_type": "slide"
    }
   },
   "source": [
    "## Decomposition and Abstraction\n",
    "\n",
    "![Decomposition and abstraction](figs/decomposition_abstraction.png \"Decomposition and abstraction\")"
   ]
  },
  {
   "cell_type": "markdown",
   "metadata": {
    "slideshow": {
     "slide_type": "notes"
    }
   },
   "source": [
    "* Decomposition allows to break the program into self-contained parts – it creates structure\n",
    "* Abstraction allows to use code as if it is a black box – it hides detail"
   ]
  },
  {
   "cell_type": "markdown",
   "metadata": {
    "slideshow": {
     "slide_type": "slide"
    }
   },
   "source": [
    "## Defining and Calling Functions\n",
    "\n",
    "### Defining a function\n",
    "\n",
    "```\n",
    "def *function_name*(*list of parameters*):\n",
    "    *body of function*\n",
    "```\n",
    "\n",
    "### Calling a function\n",
    "\n",
    "```\n",
    "*function_name*(*arguments*)\n",
    "```\n",
    "\n",
    "### When the function is used, the parameters are bound to the arguments\n"
   ]
  },
  {
   "cell_type": "code",
   "execution_count": 74,
   "metadata": {
    "slideshow": {
     "slide_type": "-"
    }
   },
   "outputs": [
    {
     "data": {
      "text/plain": [
       "3.7"
      ]
     },
     "execution_count": 74,
     "metadata": {},
     "output_type": "execute_result"
    }
   ],
   "source": [
    "def get_max(x, y):\n",
    "    if x > y:\n",
    "        # The execution of a `return` statement terminates the function call\n",
    "        return x\n",
    "    else:\n",
    "        return y\n",
    "    \n",
    "get_max(3, 3.7)"
   ]
  },
  {
   "cell_type": "markdown",
   "metadata": {
    "slideshow": {
     "slide_type": "notes"
    }
   },
   "source": [
    "Note that `def` and `return` are reserved words in Python. "
   ]
  },
  {
   "cell_type": "markdown",
   "metadata": {
    "slideshow": {
     "slide_type": "slide"
    }
   },
   "source": [
    "## A Function Call Always Returns a Value\n",
    "\n",
    "* The execution of a `return` statement terminates the function call\n",
    "* The function call also terminates when there are no more statements to execute\n",
    "* If no expression follows `return` or there is no `return` statement, the function returns `None`       "
   ]
  },
  {
   "cell_type": "code",
   "execution_count": 75,
   "metadata": {
    "slideshow": {
     "slide_type": "-"
    }
   },
   "outputs": [
    {
     "name": "stdout",
     "output_type": "stream",
     "text": [
      "5 6 None\n"
     ]
    }
   ],
   "source": [
    "def get_max(x, y):\n",
    "    if x > y:\n",
    "        return x\n",
    "    if y > x:\n",
    "        return y\n",
    "\n",
    "ex1 = get_max(3, 5)\n",
    "ex2 = get_max(6, 4)\n",
    "ex3 = get_max(3, 3)\n",
    "\n",
    "print(ex1, ex2, ex3)"
   ]
  },
  {
   "cell_type": "markdown",
   "metadata": {
    "slideshow": {
     "slide_type": "slide"
    }
   },
   "source": [
    "## Positional vs. Keyword Arguments"
   ]
  },
  {
   "cell_type": "code",
   "execution_count": 76,
   "metadata": {
    "slideshow": {
     "slide_type": "-"
    }
   },
   "outputs": [
    {
     "name": "stdout",
     "output_type": "stream",
     "text": [
      "3 2 1\n",
      "1 2 3\n",
      "3 2 1\n"
     ]
    }
   ],
   "source": [
    "def print_reverse(first, second, third):\n",
    "    print(third, second, first)\n",
    "    \n",
    "print_reverse(1, 2, 3)\n",
    "print_reverse(third = 1, second = 2, first = 3)\n",
    "print_reverse(1, second = 2, third = 3)\n",
    "# print_reverse(first = 1, 2, 3)  # Gives a syntax error"
   ]
  },
  {
   "cell_type": "markdown",
   "metadata": {
    "slideshow": {
     "slide_type": "fragment"
    }
   },
   "source": [
    "### Keyword arguments cannot come before positional arguments!"
   ]
  },
  {
   "cell_type": "markdown",
   "metadata": {
    "slideshow": {
     "slide_type": "slide"
    }
   },
   "source": [
    "## Default Parameter Values\n",
    "\n",
    "* Default values allow to call a function with fewer arguments than specified\n",
    "* Default arguments cannot come before non-default arguments!"
   ]
  },
  {
   "cell_type": "code",
   "execution_count": 77,
   "metadata": {
    "slideshow": {
     "slide_type": "-"
    }
   },
   "outputs": [
    {
     "name": "stdout",
     "output_type": "stream",
     "text": [
      "The quick brown fox jumps over the lazy dog.\n",
      "The quick brown fox jumps over the lazy dog.\n",
      "The quick brown fox jumps over the lazy dog\n"
     ]
    }
   ],
   "source": [
    "def pretty_print(lst, sep, fullstop = True, capitalize = True):\n",
    "    toprint = sep.join(lst)\n",
    "    if fullstop:\n",
    "        toprint+='.'\n",
    "    if capitalize:\n",
    "        toprint = toprint.capitalize()\n",
    "    print(toprint)\n",
    "\n",
    "wordlst = ['the', 'quick', 'brown', 'fox', 'jumps', 'over', 'the', 'lazy', 'dog']  # an English pangram\n",
    "\n",
    "pretty_print(wordlst, ' ', True, True)\n",
    "pretty_print(wordlst, ' ')\n",
    "pretty_print(wordlst, ' ', False)\n"
   ]
  },
  {
   "cell_type": "markdown",
   "metadata": {
    "slideshow": {
     "slide_type": "slide"
    }
   },
   "source": [
    "## A Function Defines a New Scope\n",
    "\n",
    "* Scope = name space"
   ]
  },
  {
   "cell_type": "code",
   "execution_count": 78,
   "metadata": {
    "slideshow": {
     "slide_type": "-"
    }
   },
   "outputs": [
    {
     "name": "stdout",
     "output_type": "stream",
     "text": [
      "1\n"
     ]
    }
   ],
   "source": [
    "def func(x, y):\n",
    "    x += 1\n",
    "    # x is a parameter, z is a local variable\n",
    "    z = x + y   # z, x, and y exist only in the scope of the definition of func\n",
    "    return z\n",
    "\n",
    "x = 1\n",
    "res = func(x, 5)\n",
    "\n",
    "print(x)  # x has not changed \n",
    "#print(z)  # Returns an error\n"
   ]
  },
  {
   "cell_type": "markdown",
   "metadata": {
    "slideshow": {
     "slide_type": "fragment"
    }
   },
   "source": [
    "### This means you can reuse your favorite variable names in different functions!"
   ]
  },
  {
   "cell_type": "markdown",
   "metadata": {
    "slideshow": {
     "slide_type": "slide"
    }
   },
   "source": [
    "## The Global Scope"
   ]
  },
  {
   "cell_type": "code",
   "execution_count": 79,
   "metadata": {
    "slideshow": {
     "slide_type": "-"
    }
   },
   "outputs": [
    {
     "name": "stdout",
     "output_type": "stream",
     "text": [
      "3\n"
     ]
    }
   ],
   "source": [
    "globvar = 3\n",
    "\n",
    "def print_global():\n",
    "    print(globvar)  # Since y is not defined in the function, it is treated as global\n",
    "\n",
    "print_global()"
   ]
  },
  {
   "cell_type": "markdown",
   "metadata": {
    "slideshow": {
     "slide_type": "fragment"
    }
   },
   "source": [
    "### Use CAPITALS to name global variables!"
   ]
  },
  {
   "cell_type": "markdown",
   "metadata": {
    "slideshow": {
     "slide_type": "slide"
    }
   },
   "source": [
    "## Modules\n",
    "\n",
    "* For large programs, store different parts in `.py` files\n",
    "* Get access using `import` statements"
   ]
  },
  {
   "cell_type": "code",
   "execution_count": 80,
   "metadata": {
    "slideshow": {
     "slide_type": "-"
    }
   },
   "outputs": [
    {
     "name": "stdout",
     "output_type": "stream",
     "text": [
      "She said: \"Hello!\"\n"
     ]
    }
   ],
   "source": [
    "import module\n",
    "\n",
    "module.my_func('Hello!')\n"
   ]
  },
  {
   "cell_type": "code",
   "execution_count": 81,
   "metadata": {
    "slideshow": {
     "slide_type": "fragment"
    }
   },
   "outputs": [
    {
     "name": "stdout",
     "output_type": "stream",
     "text": [
      "She said: \"Hello again!\"\n"
     ]
    }
   ],
   "source": [
    "from module import *\n",
    "\n",
    "my_func('Hello again!')"
   ]
  },
  {
   "cell_type": "markdown",
   "metadata": {
    "slideshow": {
     "slide_type": "slide"
    }
   },
   "source": [
    "## Useful Python Modules\n",
    "\n",
    "https://docs.python.org/3/library/\n",
    "\n",
    "* `re` – Regular expression operations\n",
    "* `datetime` – Basic date and time types\n",
    "* `math` – Mathematical functions\n",
    "* `random` – Generate pseudo-random numbers\n",
    "* `os.path` – Common pathname manipulations\n",
    "* `pickle` — Python object serialization\n",
    "* `csv` — CSV file reading and writing\n",
    "* `json` — JSON encoder and decoder\n",
    "* ..."
   ]
  },
  {
   "cell_type": "markdown",
   "metadata": {
    "slideshow": {
     "slide_type": "slide"
    }
   },
   "source": [
    "## Useful Python Packages\n",
    "\n",
    "* `numpy` – Scientific computing with multi-dimensional arrays\n",
    "* `pandas` – Data anlysis with table-like structures (R, pretty much)\n",
    "* `statsmodels` – Statistical data analysis with linear models\n",
    "* `scikit-learn` – Data mining and machine learning\n",
    "* `networkx` – Network analysis\n",
    "* `matplotlib` – Plotting\n",
    "* ..."
   ]
  },
  {
   "cell_type": "markdown",
   "metadata": {
    "slideshow": {
     "slide_type": "slide"
    }
   },
   "source": [
    "## Functions Calling Themselves, A.K.A. Recursion\n",
    "\n",
    "**Recursion** is a problem-solving method where the solution to a problem depends on solutions to smaller instances of the same problem.\n",
    "\n"
   ]
  },
  {
   "cell_type": "code",
   "execution_count": 82,
   "metadata": {
    "slideshow": {
     "slide_type": "-"
    }
   },
   "outputs": [
    {
     "name": "stdout",
     "output_type": "stream",
     "text": [
      "15\n"
     ]
    }
   ],
   "source": [
    "# Consider the sum of elements in a list\n",
    "\n",
    "lst = [1, 2, 3, 4, 5]\n",
    "# We want (1 + 2 + 3 + 4 + 5), which is equivalent to (1 + (2 + (3 + (4 + 5)))).\n",
    "# This suggests that we can reduce the problem to the problem of adding two numbers.\n",
    "\n",
    "def list_sum(lst):\n",
    "   if len(lst) == 1:  \n",
    "        return lst[0]   # base case\n",
    "   else:\n",
    "        return lst[0] + list_sum(lst[1:])   # recursive case\n",
    "    \n",
    "print(list_sum(lst))"
   ]
  },
  {
   "cell_type": "markdown",
   "metadata": {
    "slideshow": {
     "slide_type": "slide"
    }
   },
   "source": [
    "## How Recursion Works\n",
    "\n",
    "```\n",
    "def list_sum(lst):\n",
    "   if len(lst) == 1:  \n",
    "        return lst[0]\n",
    "   else:\n",
    "        return lst[0] + list_sum(lst[1:])\n",
    "        \n",
    "list_sum([1,2,3,4,5])\n",
    "```"
   ]
  },
  {
   "cell_type": "markdown",
   "metadata": {
    "slideshow": {
     "slide_type": "-"
    }
   },
   "source": [
    "![Recursion](figs/recursion.png \"Recursion\")"
   ]
  },
  {
   "cell_type": "markdown",
   "metadata": {
    "slideshow": {
     "slide_type": "slide"
    }
   },
   "source": [
    "## Writing Recursive Procedures\n",
    "\n",
    "1. Define the general case\n",
    "* Define the base case\n",
    "* Ensure the base case is reached after a finite number of recursive calls"
   ]
  },
  {
   "cell_type": "code",
   "execution_count": 83,
   "metadata": {
    "slideshow": {
     "slide_type": "-"
    }
   },
   "outputs": [
    {
     "name": "stdout",
     "output_type": "stream",
     "text": [
      "before 5\n",
      "before 4\n",
      "before 3\n",
      "before 2\n",
      "base case 1\n",
      "after 2 2\n",
      "after 3 6\n",
      "after 4 24\n",
      "after 5 120\n",
      "120\n"
     ]
    }
   ],
   "source": [
    "# E.g. the factorial function n!\n",
    "# 1. General case: n! = n * (n-1)!\n",
    "# 2. Base case: 1! = 1\n",
    "# 3. Base case reached when n==1\n",
    "\n",
    "def factorial(n):\n",
    "    if n==1:\n",
    "        print('base case', n)\n",
    "        answer = 1\n",
    "    else:\n",
    "        print('before', n)\n",
    "        answer = n * factorial(n-1)\n",
    "        print('after', n, answer)\n",
    "    return answer\n",
    "\n",
    "print(factorial(5))"
   ]
  },
  {
   "cell_type": "markdown",
   "metadata": {
    "slideshow": {
     "slide_type": "slide"
    }
   },
   "source": [
    "## Writing Recursive Procedures\n",
    "\n",
    "1. Define the general case\n",
    "* Define the base case\n",
    "* Ensure the base case is reached after a finite number of recursive calls"
   ]
  },
  {
   "cell_type": "code",
   "execution_count": 84,
   "metadata": {
    "slideshow": {
     "slide_type": "-"
    }
   },
   "outputs": [
    {
     "name": "stdout",
     "output_type": "stream",
     "text": [
      "0\n",
      "1\n",
      "1\n",
      "2\n",
      "3\n",
      "5\n",
      "8\n",
      "13\n",
      "21\n",
      "34\n"
     ]
    }
   ],
   "source": [
    "# E.g. the Fibonacci Numbers (modern version): 0, 1, 1, 2, 3, 5, 8, 13, ..., where \n",
    "# every number # after the first two is the sum of the two preceding ones\n",
    "# Need the n-th Fibonacci number\n",
    "# 1. General case: fib(n) = fib(n - 1) + fib(n - 2)\n",
    "# 2. Base case: fib(0) = 0, fib(1) = 1\n",
    "# 3. n==0 or n==1\n",
    "\n",
    "def fib(n):\n",
    "    if n==0:\n",
    "        return 0\n",
    "    elif n==1:\n",
    "        return 1\n",
    "    else:\n",
    "        return fib(n - 1) + fib(n - 2)\n",
    "    return answer\n",
    "\n",
    "for i in range(10): \n",
    "    print(fib(i))"
   ]
  },
  {
   "cell_type": "markdown",
   "metadata": {
    "slideshow": {
     "slide_type": "slide"
    }
   },
   "source": [
    "## Recursion Could be Quite Inefficient\n",
    "\n",
    "Even if you can formulate a problem in recursive terms, it does not mean that recursion is the most efficient way to solve it."
   ]
  },
  {
   "cell_type": "code",
   "execution_count": 85,
   "metadata": {
    "slideshow": {
     "slide_type": "-"
    }
   },
   "outputs": [],
   "source": [
    "def fib_rec(n):\n",
    "    if n==0:\n",
    "        return 0\n",
    "    elif n==1:\n",
    "        return 1\n",
    "    else:\n",
    "        return fib_rec(n - 1) + fib_rec(n - 2)\n",
    "    return answer\n",
    "\n",
    "\n",
    "def fib_ite(n):    \n",
    "    first = 0\n",
    "    second = 1\n",
    "    for i in range(n):\n",
    "        old_first = first\n",
    "        first = second\n",
    "        second = old_first + second\n",
    "    return first\n"
   ]
  },
  {
   "cell_type": "markdown",
   "metadata": {
    "slideshow": {
     "slide_type": "slide"
    }
   },
   "source": [
    "## Comparing the Execution Time"
   ]
  },
  {
   "cell_type": "code",
   "execution_count": 93,
   "metadata": {
    "slideshow": {
     "slide_type": "-"
    }
   },
   "outputs": [
    {
     "name": "stdout",
     "output_type": "stream",
     "text": [
      "Recursion: 1.392441987991333 seconds\n",
      "Iteration: 4.506111145019531e-05 seconds\n",
      "True\n"
     ]
    }
   ],
   "source": [
    "import time\n",
    "\n",
    "start_time = time.time()\n",
    "fib33_rec = fib_rec(33)\n",
    "print('Recursion:', (time.time() - start_time), 'seconds')\n",
    "\n",
    "start_time = time.time()\n",
    "fib33_ite = fib_ite(33)\n",
    "print('Iteration:', (time.time() - start_time), 'seconds')\n",
    "\n",
    "print(fib33_rec==fib33_ite) "
   ]
  },
  {
   "cell_type": "markdown",
   "metadata": {
    "slideshow": {
     "slide_type": "slide"
    }
   },
   "source": [
    "The number of recursive calls increases exponentially with n:\n",
    "\n",
    "![Fibonacci](figs/fibonacci.png \"Fibonacci\")"
   ]
  },
  {
   "cell_type": "markdown",
   "metadata": {
    "slideshow": {
     "slide_type": "notes"
    }
   },
   "source": [
    "The calls form a binary tree because there are two recursive self-calls."
   ]
  },
  {
   "cell_type": "markdown",
   "metadata": {
    "slideshow": {
     "slide_type": "fragment"
    }
   },
   "source": [
    "### Any recursive algorithm can be transformed into an iterative one! "
   ]
  },
  {
   "cell_type": "markdown",
   "metadata": {
    "slideshow": {
     "slide_type": "slide"
    }
   },
   "source": [
    "## Functions\n",
    "\n",
    "Functions provide **abstraction** and **decomposition**:\n",
    "\n",
    "* Break large problems into smaller ones\n",
    "* Hide the gory implementation details\n",
    "* Present elementary building blocks that can be recombined to solve new problems\n",
    "* Improve code legibility\n",
    "* Enable collaboration\n"
   ]
  },
  {
   "cell_type": "markdown",
   "metadata": {
    "slideshow": {
     "slide_type": "fragment"
    }
   },
   "source": [
    "-------\n",
    "\n",
    "* **Lab**: Writing and calling functions in Python\n",
    "* **Next week**: Classes in Python"
   ]
  }
 ],
 "metadata": {
  "celltoolbar": "Slideshow",
  "kernelspec": {
   "display_name": "Python 3",
   "language": "python",
   "name": "python3"
  },
  "language_info": {
   "codemirror_mode": {
    "name": "ipython",
    "version": 3
   },
   "file_extension": ".py",
   "mimetype": "text/x-python",
   "name": "python",
   "nbconvert_exporter": "python",
   "pygments_lexer": "ipython3",
   "version": "3.6.0"
  }
 },
 "nbformat": 4,
 "nbformat_minor": 2
}
