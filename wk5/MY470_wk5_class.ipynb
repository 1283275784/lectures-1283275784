{
 "cells": [
  {
   "cell_type": "markdown",
   "metadata": {
    "slideshow": {
     "slide_type": "slide"
    }
   },
   "source": [
    "### MY470 Computer Programming\n",
    "# Programming in Teams\n",
    "### Week 5 Lab, MT 2017"
   ]
  },
  {
   "cell_type": "markdown",
   "metadata": {
    "slideshow": {
     "slide_type": "slide"
    }
   },
   "source": [
    "## Suggested Workflow for Prorgamming in Teams\n",
    "\n",
    "1. Use `pass` to outline structure of program\n",
    "* Write class/function specifications\n",
    "* Split the work\n",
    "* Fill in the details\n",
    "* Review each other's code to identify and fix potential problems\n",
    "* Merge\n",
    "* Identify bugs and problems\n",
    "* Repeat 3-7 as necessary"
   ]
  },
  {
   "cell_type": "code",
   "execution_count": 3,
   "metadata": {
    "collapsed": true,
    "slideshow": {
     "slide_type": "-"
    }
   },
   "outputs": [],
   "source": [
    "def MyClass(self):\n",
    "    \n",
    "    def __init__(self):\n",
    "        '''Create a new instance.'''\n",
    "        pass\n",
    "    \n",
    "    def class_methods(self, arg):\n",
    "        pass\n",
    "\n"
   ]
  },
  {
   "cell_type": "markdown",
   "metadata": {
    "slideshow": {
     "slide_type": "slide"
    }
   },
   "source": [
    "## GitHub as a Collaboration Tool\n",
    "\n",
    "1. Clone repository locally\n",
    "* Make changes in cloned repository\n",
    "* Upload new file, **creating a new branch and starting a pull request**\n",
    "*"
   ]
  },
  {
   "cell_type": "markdown",
   "metadata": {
    "slideshow": {
     "slide_type": "-"
    }
   },
   "source": [
    "## Create a New Branch When Uploading Changed File\n",
    "\n",
    "![Create a new branch](figs/branching.png \"Create a new branch\")"
   ]
  },
  {
   "cell_type": "markdown",
   "metadata": {
    "slideshow": {
     "slide_type": "-"
    }
   },
   "source": [
    "## Open a Pull Request to Get Feedback (Automatically Directed There)\n",
    "\n",
    "![Open a pull request](figs/pull_request.png \"Open a pull request\")"
   ]
  },
  {
   "cell_type": "markdown",
   "metadata": {
    "slideshow": {
     "slide_type": "-"
    }
   },
   "source": [
    "## You (and Later Your Partner) Can View Your Changes Highlighted\n",
    "\n",
    "![View changes](figs/changes.png \"View changes\")"
   ]
  },
  {
   "cell_type": "markdown",
   "metadata": {
    "slideshow": {
     "slide_type": "-"
    }
   },
   "source": [
    "## Wait for Comments from Partner Before Merging\n",
    "\n",
    "![Merge after comments](figs/merge.png \"Merge after comments\")"
   ]
  },
  {
   "cell_type": "markdown",
   "metadata": {
    "slideshow": {
     "slide_type": "-"
    }
   },
   "source": [
    "## Confirm Merge\n",
    "\n",
    "![Confirm merge](figs/confirm_merge.png \"Confirm merge\")"
   ]
  },
  {
   "cell_type": "markdown",
   "metadata": {
    "slideshow": {
     "slide_type": "-"
    }
   },
   "source": [
    "## Open Issues to Discuss Problems and Ask Partner for Help\n",
    "\n",
    "![Open a new issue](figs/open_issue.png \"Open a new issue\")"
   ]
  },
  {
   "cell_type": "markdown",
   "metadata": {
    "slideshow": {
     "slide_type": "-"
    }
   },
   "source": [
    "## Open Issues to Discuss Problems and Ask Partner for Help\n",
    "\n",
    "![Submit new issue](figs/submit_issue.png \"Submit new issue\")"
   ]
  },
  {
   "cell_type": "markdown",
   "metadata": {
    "slideshow": {
     "slide_type": "-"
    }
   },
   "source": [
    "## Discuss\n",
    "\n",
    "![Discuss](figs/discuss.png \"Discuss\")"
   ]
  },
  {
   "cell_type": "code",
   "execution_count": null,
   "metadata": {
    "collapsed": true,
    "slideshow": {
     "slide_type": "slide"
    }
   },
   "outputs": [],
   "source": [
    "# Exercise: Work with the person next to you to design classes to manage\n",
    "# the products, customers, and purchase orders for an online book store\n",
    "# such as amazon.com. Outline the data attributes and useful methods \n",
    "# for each class. You can discuss and create the outline together. \n",
    "\n"
   ]
  },
  {
   "cell_type": "code",
   "execution_count": null,
   "metadata": {
    "collapsed": true,
    "slideshow": {
     "slide_type": "-"
    }
   },
   "outputs": [],
   "source": [
    "# Exercise: Create a new repository in your account and upload the class hierarchy \n",
    "# you created. Practice cloning locally, making changes, and uploading the changed file\n",
    "# to your remote repository by creating a branch and opening a pull request. \n",
    "# (Note that in order for others to be able to upload files to your repository, \n",
    "# you need to grant them push access.)\n",
    "\n"
   ]
  },
  {
   "cell_type": "code",
   "execution_count": null,
   "metadata": {
    "collapsed": true,
    "slideshow": {
     "slide_type": "-"
    }
   },
   "outputs": [],
   "source": [
    "# Exercise: Open a new issue in your partner's repository. \n",
    "# (Note that you don't need push access to open issues.)\n",
    "\n"
   ]
  }
 ],
 "metadata": {
  "celltoolbar": "Slideshow",
  "kernelspec": {
   "display_name": "Python [default]",
   "language": "python",
   "name": "python3"
  },
  "language_info": {
   "codemirror_mode": {
    "name": "ipython",
    "version": 3
   },
   "file_extension": ".py",
   "mimetype": "text/x-python",
   "name": "python",
   "nbconvert_exporter": "python",
   "pygments_lexer": "ipython3",
   "version": "3.5.3"
  }
 },
 "nbformat": 4,
 "nbformat_minor": 2
}
