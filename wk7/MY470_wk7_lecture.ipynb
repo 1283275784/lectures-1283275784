{
 "cells": [
  {
   "cell_type": "markdown",
   "metadata": {
    "slideshow": {
     "slide_type": "slide"
    }
   },
   "source": [
    "### MY470 Computer Programming\n",
    "# Testing and Debugging in Python\n",
    "### Week 7 Lecture, MT 2017"
   ]
  },
  {
   "cell_type": "markdown",
   "metadata": {
    "slideshow": {
     "slide_type": "slide"
    }
   },
   "source": [
    "## Overview\n",
    "\n",
    "* Testing\n",
    "    * Random, black-box, and glass-box testing\n",
    "    * Unit, regression, and integration testing\n",
    "* Debugging\n",
    "    * Overt and covert bugs\n",
    "    * Persistent and intermittent bugs\n",
    "    * Debugging strategies and techniques\n",
    "* Defensive programming\n",
    "* Team formation for Assignment 7"
   ]
  },
  {
   "cell_type": "markdown",
   "metadata": {
    "slideshow": {
     "slide_type": "slide"
    }
   },
   "source": [
    "## Testing\n",
    "\n",
    "* Running a program to confirm that it works as intended\n",
    "\n",
    "## Debugging\n",
    "\n",
    "* Fixing a program that does not work as intended"
   ]
  },
  {
   "cell_type": "markdown",
   "metadata": {
    "slideshow": {
     "slide_type": "slide"
    }
   },
   "source": [
    "## Design Your Programs to Facilitate Testing and Debugging\n",
    "\n",
    "1. Break program into separate components (functions and classes)\n",
    "\n",
    "2. Document constraints using function specifications\n",
    "\n",
    "3. Document assumptions and logic using code comments"
   ]
  },
  {
   "cell_type": "markdown",
   "metadata": {
    "slideshow": {
     "slide_type": "slide"
    }
   },
   "source": [
    "## Random Testing\n",
    "\n",
    "* Explore a large set of random values\n",
    "\n",
    "## Black-Box Testing\n",
    "\n",
    "* Focus on the specification\n",
    "\n",
    "## Glass-Box Testing\n",
    "\n",
    "* Focus on the code\n"
   ]
  },
  {
   "cell_type": "markdown",
   "metadata": {
    "slideshow": {
     "slide_type": "slide"
    }
   },
   "source": [
    "## Black-Box Testing\n",
    "\n",
    "* Tester is presumed ignorant of the code\n",
    "* Focus on the specification\n",
    "* Robust to changes in the implementation\n",
    "\n",
    "### Test all natural partitions\n",
    "\n",
    "*  E.g., for numbers, test a negative number, `0`, integer, and float (if in specification)\n",
    "\n",
    "### Test boundary conditions\n",
    "\n",
    "* E.g., for lists, test for `[], ['one element'], [['list'], ['of'], ['lists']]`, and aliasing\n",
    "\n",
    "### Test extremes\n",
    "\n",
    "* E.g., for numbers, test for very small, typical, and very large values\n"
   ]
  },
  {
   "cell_type": "markdown",
   "metadata": {
    "slideshow": {
     "slide_type": "slide"
    }
   },
   "source": [
    "## Example: Black-Box Testing\n",
    "\n",
    "```\n",
    "def sqrt(x, eps):\n",
    "    '''Assumes x, eps floats, x >= 0, eps > 0.\n",
    "    Returns res such that x - eps <= res*res <= x + eps.'''\n",
    "```"
   ]
  },
  {
   "cell_type": "markdown",
   "metadata": {
    "slideshow": {
     "slide_type": "fragment"
    }
   },
   "source": [
    "| Case   | x  | eps   \n",
    "| :----: |:------:| :----------------------\n",
    "| boundary | 0         | 0.0001            \n",
    "| natural partition | 25    | 0.0001  \n",
    "| natural partition | 0.5    | 0.0001 \n",
    "| natural partition | 2    | 0.0001 \n",
    "| extreme | 2    | 0.5\\*\\*64\n",
    "| extreme | 0.5\\*\\*64  | 0.5\\*\\*64\n",
    "| extreme | 2\\*\\*64    | 0.5\\*\\*64\n",
    "| extreme | 0.5\\*\\*64  | 2\\*\\*64\n",
    "| extreme | 2\\*\\*64    | 2\\*\\*64\n"
   ]
  },
  {
   "cell_type": "markdown",
   "metadata": {
    "slideshow": {
     "slide_type": "slide"
    }
   },
   "source": [
    "## Glass-Box Testing\n",
    "\n",
    "* Focus on the code\n",
    "* Easier to construct and make more thorough\n",
    "\n",
    "### Aim for path-complete glass-box tests — testing every possible path through the program\n",
    "\n",
    "* Test both branches of `if` statetments\n",
    "* Test  all `except` clauses\n",
    "* For `for` loops, test not entering loop, entering once, and entering multiple times\n",
    "* For `while` loops, test not entering loop, entering once, entering multiple times, and exiting the loop in every possible way\n",
    "* For recursive functions, test no recursive calls, one recursive call, and multiple recursive calls\n"
   ]
  },
  {
   "cell_type": "markdown",
   "metadata": {
    "slideshow": {
     "slide_type": "slide"
    }
   },
   "source": [
    "## Example: Glass-Box Testing\n",
    "\n",
    "```\n",
    "def abs(x):\n",
    "    '''Assumes x is an int.\n",
    "    Returns x if x>=0 and -x otherwise.'''\n",
    "    if x < -1:\n",
    "        return -x\n",
    "    else:\n",
    "        return x\n",
    "```"
   ]
  },
  {
   "cell_type": "markdown",
   "metadata": {
    "slideshow": {
     "slide_type": "fragment"
    }
   },
   "source": [
    "* Path complete test: 2 and -2\n",
    "* But `abs(-1)` returns `-1`!\n",
    "* Always combine with black-box testing!"
   ]
  },
  {
   "cell_type": "markdown",
   "metadata": {
    "slideshow": {
     "slide_type": "slide"
    }
   },
   "source": [
    "## Conducting Tests\n",
    "\n",
    "1. **Make sure code runs** — remove syntax or static semantic errors\n",
    "2. **Unit testing** — test individual functions and methods\n",
    "3. **Regression testing** — fix bugs and perform 2) again\n",
    "4. **Integration testing** — test the program as a whole\n",
    "\n",
    "\n",
    "## If test fails:\n",
    "\n",
    "* Fix bug in code\n",
    "* Modify specification"
   ]
  },
  {
   "cell_type": "markdown",
   "metadata": {
    "slideshow": {
     "slide_type": "slide"
    }
   },
   "source": [
    "## Debugging\n",
    "\n",
    "![Types of bugs](figs/bugs_types.png \"Types of bugs\")"
   ]
  },
  {
   "cell_type": "markdown",
   "metadata": {
    "slideshow": {
     "slide_type": "slide"
    }
   },
   "source": [
    "## Debugging\n",
    "\n",
    "![Challenges of bugs](figs/bugs_difficulty.png \"Challenges of bugs\")"
   ]
  },
  {
   "cell_type": "markdown",
   "metadata": {
    "slideshow": {
     "slide_type": "slide"
    }
   },
   "source": [
    "## How to Debug in Two Easy Steps\n",
    "\n",
    "1. Use `print()`\n",
    "* Be systematic\n"
   ]
  },
  {
   "cell_type": "markdown",
   "metadata": {
    "slideshow": {
     "slide_type": "slide"
    }
   },
   "source": [
    "## Debugging with `print()`\n",
    "\n",
    "### Version 1\n",
    "\n",
    "* Print when function is entered, print the parameters, print the results\n",
    "\n",
    "### Version 2\n",
    "\n",
    "* Put `print()` halfway in code and use bisection method to identify the problem"
   ]
  },
  {
   "cell_type": "markdown",
   "metadata": {
    "slideshow": {
     "slide_type": "slide"
    }
   },
   "source": [
    "## Systematic Debugging\n",
    "\n",
    "1. Compare input in successful and failing runs\n",
    "* Formulate a hypothesis\n",
    "* Design an experiment to test the hypothesis; use `print()`\n",
    "* Keep record of your experiment\n",
    "* Repeat"
   ]
  },
  {
   "cell_type": "markdown",
   "metadata": {
    "slideshow": {
     "slide_type": "slide"
    }
   },
   "source": [
    "## Additional Debugging Strategies\n",
    "\n",
    "* Watch out for the usual suspects — aliasing, failure to reinitialize a variable, testing equality between two floats, improper indentation, misspelling variable name, etc.\n",
    "* Stop debugging and start documenting your code/explaining it to someone else\n",
    "* Re-write the code using another approach\n",
    "* Sleep on it"
   ]
  },
  {
   "cell_type": "markdown",
   "metadata": {
    "slideshow": {
     "slide_type": "slide"
    }
   },
   "source": [
    "## Obligatory Nerdy Joke about Debugging\n",
    "\n",
    ">A physicist, an engineer, and a programmer are in a car driving over a steep alpine pass when the brakes fail. The car is getting faster and faster, they are struggling to get round the corners and once or twice only the feeble crash barrier saves them from crashing down the side of the mountain. They are sure they are all going to die, when suddenly they spot an escape lane. They pull into the escape lane, and come safely to a halt.\n",
    "\n",
    ">The physicist says \"We need to model the friction in the brake pads and the resultant temperature rise, see if we can work out why they failed.\"\n",
    "\n",
    ">The engineer says \"I think I've got a few spanners in the back. I'll take a look and see if I can work out what's wrong.\"\n",
    "\n",
    ">The programmer say \"Why don't we get going again and see if it's reproducible?\"\n",
    "\n",
    "Source: https://www.quora.com/What-are-the-most-popular-computer-programming-jokes"
   ]
  },
  {
   "cell_type": "markdown",
   "metadata": {
    "slideshow": {
     "slide_type": "slide"
    }
   },
   "source": [
    "## Defensive Programming\n",
    "\n",
    "![Defensive programming](figs/defensive_programming.png \"Defensive programming\")"
   ]
  },
  {
   "cell_type": "markdown",
   "metadata": {
    "slideshow": {
     "slide_type": "slide"
    }
   },
   "source": [
    "## Defensive Programming\n",
    "\n",
    "Aims to improve programs in terms of:\n",
    "\n",
    "* Reduce number of bugs and problems\n",
    "* Make code more understandable\n",
    "* Make program behavior more predictable regardless of user input and actions\n",
    "\n",
    "Can be achieved with:\n",
    "\n",
    "* Modulalizing programs (using functions and classes)\n",
    "* Documenting constraints (using function specifications)\n",
    "* Checking coniditons on inputs and outputs (using **assertions** and handling **exceptions**)\n"
   ]
  },
  {
   "cell_type": "markdown",
   "metadata": {
    "slideshow": {
     "slide_type": "slide"
    }
   },
   "source": [
    "## Exceptions"
   ]
  },
  {
   "cell_type": "code",
   "execution_count": 3,
   "metadata": {
    "slideshow": {
     "slide_type": "-"
    }
   },
   "outputs": [
    {
     "ename": "IndexError",
     "evalue": "list index out of range",
     "output_type": "error",
     "traceback": [
      "\u001b[0;31m---------------------------------------------------------------------------\u001b[0m",
      "\u001b[0;31mIndexError\u001b[0m                                Traceback (most recent call last)",
      "\u001b[0;32m<ipython-input-3-00f53dd6e32a>\u001b[0m in \u001b[0;36m<module>\u001b[0;34m()\u001b[0m\n\u001b[1;32m      1\u001b[0m \u001b[0mlst\u001b[0m \u001b[0;34m=\u001b[0m \u001b[0;34m[\u001b[0m\u001b[0;36m1\u001b[0m\u001b[0;34m,\u001b[0m \u001b[0;36m2\u001b[0m\u001b[0;34m,\u001b[0m \u001b[0;36m3\u001b[0m\u001b[0;34m]\u001b[0m\u001b[0;34m\u001b[0m\u001b[0m\n\u001b[0;32m----> 2\u001b[0;31m \u001b[0mlst\u001b[0m\u001b[0;34m[\u001b[0m\u001b[0;36m3\u001b[0m\u001b[0;34m]\u001b[0m\u001b[0;34m\u001b[0m\u001b[0m\n\u001b[0m",
      "\u001b[0;31mIndexError\u001b[0m: list index out of range"
     ]
    }
   ],
   "source": [
    "lst = [1, 2, 3]\n",
    "lst[3]"
   ]
  },
  {
   "cell_type": "code",
   "execution_count": 4,
   "metadata": {
    "slideshow": {
     "slide_type": "-"
    }
   },
   "outputs": [
    {
     "ename": "ZeroDivisionError",
     "evalue": "division by zero",
     "output_type": "error",
     "traceback": [
      "\u001b[0;31m---------------------------------------------------------------------------\u001b[0m",
      "\u001b[0;31mZeroDivisionError\u001b[0m                         Traceback (most recent call last)",
      "\u001b[0;32m<ipython-input-4-ee47d2b50375>\u001b[0m in \u001b[0;36m<module>\u001b[0;34m()\u001b[0m\n\u001b[0;32m----> 1\u001b[0;31m \u001b[0;36m12\u001b[0m\u001b[0;34m/\u001b[0m\u001b[0;36m0\u001b[0m\u001b[0;34m\u001b[0m\u001b[0m\n\u001b[0m",
      "\u001b[0;31mZeroDivisionError\u001b[0m: division by zero"
     ]
    }
   ],
   "source": [
    "12/0"
   ]
  },
  {
   "cell_type": "markdown",
   "metadata": {
    "slideshow": {
     "slide_type": "fragment"
    }
   },
   "source": [
    "If an exception is **raised** and not **handled** — the program crashes."
   ]
  },
  {
   "cell_type": "markdown",
   "metadata": {
    "slideshow": {
     "slide_type": "slide"
    }
   },
   "source": [
    "## Handling Exceptions with `try` and `except`\n",
    "\n",
    "* If you know that a line of code may raise an exception when executed — handle it!"
   ]
  },
  {
   "cell_type": "code",
   "execution_count": 11,
   "metadata": {
    "slideshow": {
     "slide_type": "-"
    }
   },
   "outputs": [
    {
     "name": "stdout",
     "output_type": "stream",
     "text": [
      "Function should be used with numerical types.\n",
      "None\n"
     ]
    }
   ],
   "source": [
    "def div(a, b):\n",
    "    '''Returns the result from dividing a by b.'''\n",
    "    try:\n",
    "        return a/b\n",
    "    except ZeroDivisionError:\n",
    "        print(\"Division by zero is undefined.\")\n",
    "    except TypeError:\n",
    "        print(\"Function should be used with numerical types.\")\n",
    "    \n",
    "x = div(2, 'b')\n",
    "print(x)"
   ]
  },
  {
   "cell_type": "markdown",
   "metadata": {
    "slideshow": {
     "slide_type": "slide"
    }
   },
   "source": [
    "## Raising Exceptions with `raise`\n",
    "\n",
    "`raise exceptionName(arguments)`\n",
    "\n",
    "`exceptionName` can be:\n",
    "* a built-in exception such as `ValueError`\n",
    "* a custom exception defined as a subclass of the built-in class `Exception`\n",
    "\n",
    "Typically, use a string as a single argument to describe why the esception is raised."
   ]
  },
  {
   "cell_type": "markdown",
   "metadata": {
    "slideshow": {
     "slide_type": "slide"
    }
   },
   "source": [
    "## Control Flow with Exceptions\n",
    "\n"
   ]
  },
  {
   "cell_type": "markdown",
   "metadata": {
    "slideshow": {
     "slide_type": "slide"
    }
   },
   "source": [
    "## Assertions"
   ]
  },
  {
   "cell_type": "code",
   "execution_count": 2,
   "metadata": {
    "collapsed": true,
    "slideshow": {
     "slide_type": "-"
    }
   },
   "outputs": [],
   "source": [
    "class InfoHiding(object):\n",
    "    def __init__(self):\n",
    "        self.visible = 'Look at me'\n",
    "        self.__visible__ = 'Look at me too'\n",
    "        self.__invisible = 'Do not look at me directly'\n",
    "        \n",
    "    def print_visible(self):\n",
    "        print(self.visible)\n",
    "    \n",
    "    def print_invisible(self):\n",
    "        print(self.__invisible)\n",
    "        \n",
    "    def __invisible_print_invisible(self):\n",
    "        print(self.__invisible)\n",
    "        \n",
    "    def __visible_print_invisible__(self):\n",
    "        print(self.__invisible)\n",
    "\n",
    "test = InfoHiding()"
   ]
  },
  {
   "cell_type": "markdown",
   "metadata": {
    "slideshow": {
     "slide_type": "slide"
    }
   },
   "source": [
    "## Testing and Debugging in Python\n",
    "\n",
    "*"
   ]
  },
  {
   "cell_type": "markdown",
   "metadata": {
    "slideshow": {
     "slide_type": "fragment"
    }
   },
   "source": [
    "-------\n",
    "\n",
    "* **Lab**: Exceptions and Assertions\n",
    "* **Next week**: R with Prof. Benoit"
   ]
  },
  {
   "cell_type": "markdown",
   "metadata": {
    "slideshow": {
     "slide_type": "slide"
    }
   },
   "source": [
    "## Work on Assignment 7 in Pairs\n",
    "\n",
    "1. Draw your team name\n",
    "* Go to the assignment link\n",
    "* Join your team if you see it\n",
    "* If you don't see your team, create it"
   ]
  }
 ],
 "metadata": {
  "celltoolbar": "Slideshow",
  "kernelspec": {
   "display_name": "Python 3",
   "language": "python",
   "name": "python3"
  },
  "language_info": {
   "codemirror_mode": {
    "name": "ipython",
    "version": 3
   },
   "file_extension": ".py",
   "mimetype": "text/x-python",
   "name": "python",
   "nbconvert_exporter": "python",
   "pygments_lexer": "ipython3",
   "version": "3.6.0"
  }
 },
 "nbformat": 4,
 "nbformat_minor": 2
}
